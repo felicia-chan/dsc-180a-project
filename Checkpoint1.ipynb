{
 "cells": [
  {
   "cell_type": "markdown",
   "id": "dcbbb614",
   "metadata": {},
   "source": [
    "The original notebook run in TigerGraph development environment, using MLWorkbench.\n",
    "This is an uncompleted sample for the project checkpoint."
   ]
  },
  {
   "cell_type": "code",
   "execution_count": null,
   "id": "5ee7b09a",
   "metadata": {},
   "outputs": [],
   "source": []
  },
  {
   "cell_type": "code",
   "execution_count": null,
   "id": "e3e6322a",
   "metadata": {},
   "outputs": [],
   "source": [
    "# pyTigerGraph: python package for connecting to TigerGraph db"
   ]
  },
  {
   "cell_type": "code",
   "execution_count": null,
   "id": "f1af3dac",
   "metadata": {},
   "outputs": [],
   "source": [
    "pip install pyTigerGraph"
   ]
  },
  {
   "cell_type": "code",
   "execution_count": null,
   "id": "069c066a",
   "metadata": {},
   "outputs": [],
   "source": [
    "from pyTigerGraph import TigerGraphConnection\n",
    "\n",
    "conn=TigerGraphConnection(\n",
    "    host=\"https://felicia-ucsd.i.tgcloud.io\",\n",
    "    graphname=\"project\",\n",
    "    gsqlSecret=\"gc68193o1pecuq2o4q2hpsa18c9csluj\"\n",
    ")\n",
    "conn.getToken(\"gc68193o1pecuq2o4q2hpsa18c9csluj\")"
   ]
  },
  {
   "cell_type": "code",
   "execution_count": null,
   "id": "6f3ee693",
   "metadata": {},
   "outputs": [],
   "source": [
    "conn.echo()"
   ]
  },
  {
   "cell_type": "code",
   "execution_count": null,
   "id": "735dcfbd",
   "metadata": {},
   "outputs": [],
   "source": [
    "# prints vertex types and edge types\n",
    "\n",
    "print(conn.gsql(\"LS\"))\n",
    "#print(conn.getEndpoints(dynamic=True))"
   ]
  },
  {
   "cell_type": "markdown",
   "id": "56aa4aba",
   "metadata": {},
   "source": [
    "Link Prediction Algorithms supported through GDS\n",
    "* Euclidian Distance\n",
    "* Overlap Similarity\n",
    "* Pearson Similarity\n",
    "* Cosine Similarity\n",
    "* Jaccard Similarity"
   ]
  },
  {
   "cell_type": "code",
   "execution_count": null,
   "id": "06eb49cd",
   "metadata": {},
   "outputs": [],
   "source": [
    "# steps:\n",
    "# load data in batches\n",
    "# train test splittings\n",
    "# create graph embeddings in space\n",
    "# euclidian distance algorithms from GDS"
   ]
  }
 ],
 "metadata": {
  "kernelspec": {
   "display_name": "Python 3 (ipykernel)",
   "language": "python",
   "name": "python3"
  },
  "language_info": {
   "codemirror_mode": {
    "name": "ipython",
    "version": 3
   },
   "file_extension": ".py",
   "mimetype": "text/x-python",
   "name": "python",
   "nbconvert_exporter": "python",
   "pygments_lexer": "ipython3",
   "version": "3.9.12"
  }
 },
 "nbformat": 4,
 "nbformat_minor": 5
}
